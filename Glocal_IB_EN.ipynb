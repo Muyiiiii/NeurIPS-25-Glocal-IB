{
 "cells": [
  {
   "cell_type": "code",
   "execution_count": 1,
   "id": "dcd5eb75",
   "metadata": {},
   "outputs": [],
   "source": [
    "import torch\n",
    "import torch.nn as nn\n",
    "import torch.nn.functional as F\n",
    "\n",
    "from Glocal_IB import Glocal_IB"
   ]
  },
  {
   "cell_type": "code",
   "execution_count": 2,
   "id": "35b1546e",
   "metadata": {},
   "outputs": [],
   "source": [
    "# 1. Define hyperparameters\n",
    "BATCH_SIZE = 4\n",
    "SEQ_LEN = 24\n",
    "FEATURES = 10\n",
    "EMBEDDING_DIM = 64"
   ]
  },
  {
   "cell_type": "code",
   "execution_count": 3,
   "metadata": {},
   "outputs": [],
   "source": [
    "class DummyImputationModel(nn.Module):\n",
    "    \"\"\"A simple dummy imputation model\"\"\"\n",
    "    def __init__(self, seq_len, features, embedding_dim):\n",
    "        super().__init__()\n",
    "        self.seq_len = seq_len\n",
    "        self.features = features\n",
    "        self.embedding_dim = embedding_dim\n",
    "        self.encoder = nn.Linear(features, embedding_dim)\n",
    "        self.decoder = nn.Linear(embedding_dim, features)\n",
    "        print(f\"Base model initialized, input features: {features}, embedding dimension: {embedding_dim}\")\n",
    "\n",
    "    def forward(self, x, **kwargs):\n",
    "        # Input x dimension: (batch, seq_len, features)\n",
    "        embedding = self.encoder(x)\n",
    "        \n",
    "        # Decoder expands embedding vector back to sequence length\n",
    "        # (batch, seq_len, embedding_dim)\n",
    "        reconstructed = embedding\n",
    "        output = self.decoder(reconstructed) # -> (batch, seq_len, features)\n",
    "\n",
    "        # Following convention, return imputation result and intermediate embedding\n",
    "        return output, embedding\n",
    "    \n",
    "    def get_embedding_dim(self): # Just for testing __getattr__ functionality\n",
    "        return self.embedding_dim\n"
   ]
  },
  {
   "cell_type": "code",
   "execution_count": 4,
   "id": "5bb92a99",
   "metadata": {},
   "outputs": [
    {
     "name": "stdout",
     "output_type": "stream",
     "text": [
      "Base model initialized, input features: 10, embedding dimension: 64\n"
     ]
    }
   ],
   "source": [
    "# 2. Instantiate base model and Glocal_IB wrapper\n",
    "base_model = DummyImputationModel(SEQ_LEN, FEATURES, EMBEDDING_DIM)\n",
    "\n",
    "# Use \"cos_align\" as alignment loss with weight 0.5\n",
    "glocal_model = Glocal_IB(\n",
    "    base_model=base_model, \n",
    "    embedding_dim=EMBEDDING_DIM,\n",
    "    align_loss_type=\"cos_align\",\n",
    "    align_model_type=\"self\",\n",
    "    align_weight=0.5,\n",
    "    foundation_embedding=None,\n",
    ")"
   ]
  },
  {
   "cell_type": "code",
   "execution_count": 5,
   "id": "90c455cf",
   "metadata": {},
   "outputs": [],
   "source": [
    "# 3. Prepare simulated data\n",
    "x_complete = torch.randn(BATCH_SIZE, SEQ_LEN, FEATURES) # Complete original data\n",
    "x_masked = x_complete.clone()\n",
    "# Randomly generate a mask, covering approximately 20% of data points\n",
    "mask = torch.rand(x_masked.shape) > 0.8\n",
    "x_masked[mask] = 0 # Set masked data points to 0"
   ]
  },
  {
   "cell_type": "code",
   "execution_count": 6,
   "id": "b2750f94",
   "metadata": {},
   "outputs": [
    {
     "name": "stdout",
     "output_type": "stream",
     "text": [
      "🚀 Mode: Training\n",
      "Return result type: <class 'dict'>\n",
      "Dictionary keys: dict_keys(['output', 'alignment_loss'])\n",
      "Imputation result shape: torch.Size([4, 24, 10])\n",
      "Alignment loss value: 0.5036\n",
      "Reconstruction loss: 1.0334\n",
      "Total loss (for backpropagation): 1.5371\n"
     ]
    }
   ],
   "source": [
    "# 4. Simulate training process\n",
    "print(\"🚀 Mode: Training\")\n",
    "glocal_model.train() # Set model to training mode\n",
    "\n",
    "# During training, need to pass both masked and complete data\n",
    "training_results = glocal_model(x_masked, x_complete)\n",
    "\n",
    "print(f\"Return result type: {type(training_results)}\")\n",
    "print(f\"Dictionary keys: {training_results.keys()}\")\n",
    "\n",
    "# Get imputation results and alignment loss from dictionary\n",
    "imputation = training_results['output']\n",
    "alignment_loss = training_results['alignment_loss']\n",
    "\n",
    "print(f\"Imputation result shape: {imputation.shape}\")\n",
    "print(f\"Alignment loss value: {alignment_loss.item():.4f}\")\n",
    "\n",
    "# In actual training, you would calculate a standard reconstruction loss\n",
    "reconstruction_loss = F.mse_loss(imputation[~mask], x_complete[~mask])\n",
    "\n",
    "# Total loss is weighted sum of alignment loss and reconstruction loss\n",
    "total_loss = reconstruction_loss + alignment_loss\n",
    "print(f\"Reconstruction loss: {reconstruction_loss.item():.4f}\")\n",
    "print(f\"Total loss (for backpropagation): {total_loss.item():.4f}\")"
   ]
  },
  {
   "cell_type": "code",
   "execution_count": 7,
   "id": "7b4a9289",
   "metadata": {},
   "outputs": [
    {
     "name": "stdout",
     "output_type": "stream",
     "text": [
      "🔬 Mode: Evaluation\n",
      "Return result type: <class 'torch.Tensor'>\n",
      "Imputation result shape: torch.Size([4, 24, 10])\n"
     ]
    }
   ],
   "source": [
    "# 5. Simulate evaluation/inference process\n",
    "print(\"🔬 Mode: Evaluation\")\n",
    "glocal_model.eval() # Set model to evaluation mode\n",
    "\n",
    "# During evaluation, only pass masked data\n",
    "with torch.no_grad():\n",
    "    eval_output = glocal_model(x_masked)\n",
    "\n",
    "print(f\"Return result type: {type(eval_output)}\")\n",
    "print(f\"Imputation result shape: {eval_output.shape}\")"
   ]
  },
  {
   "cell_type": "code",
   "execution_count": 8,
   "id": "b17f6bb3",
   "metadata": {},
   "outputs": [
    {
     "name": "stdout",
     "output_type": "stream",
     "text": [
      "🎁 Demonstrate __getattr__ functionality\n",
      "Call base model method directly through Glocal_IB wrapper: glocal_model.get_embedding_dim() -> 64\n",
      "Consistent with direct call to base model: base_model.get_embedding_dim() -> 64\n"
     ]
    }
   ],
   "source": [
    "# 6. Demonstrate __getattr__ functionality\n",
    "print(\"🎁 Demonstrate __getattr__ functionality\")\n",
    "# Even though we're operating on glocal_model, we can call methods as if calling base_model directly\n",
    "# This is because __getattr__ automatically forwards calls to the internal self.base_model\n",
    "emb_dim = glocal_model.get_embedding_dim()\n",
    "print(f\"Call base model method directly through Glocal_IB wrapper: glocal_model.get_embedding_dim() -> {emb_dim}\")\n",
    "print(f\"Consistent with direct call to base model: base_model.get_embedding_dim() -> {base_model.get_embedding_dim()}\")"
   ]
  }
 ],
 "metadata": {
  "kernelspec": {
   "display_name": "work4-v1",
   "language": "python",
   "name": "python3"
  },
  "language_info": {
   "codemirror_mode": {
    "name": "ipython",
    "version": 3
   },
   "file_extension": ".py",
   "mimetype": "text/x-python",
   "name": "python",
   "nbconvert_exporter": "python",
   "pygments_lexer": "ipython3",
   "version": "3.10.16"
  }
 },
 "nbformat": 4,
 "nbformat_minor": 5
}
