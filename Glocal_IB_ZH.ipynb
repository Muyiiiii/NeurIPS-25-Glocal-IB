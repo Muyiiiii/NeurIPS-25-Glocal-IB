{
 "cells": [
  {
   "cell_type": "code",
   "execution_count": 9,
   "id": "dcd5eb75",
   "metadata": {},
   "outputs": [],
   "source": [
    "import torch\n",
    "import torch.nn as nn\n",
    "import torch.nn.functional as F\n",
    "\n",
    "from Glocal_IB import Glocal_IB"
   ]
  },
  {
   "cell_type": "code",
   "execution_count": 10,
   "id": "35b1546e",
   "metadata": {},
   "outputs": [],
   "source": [
    "# 1. 定义超参数\n",
    "BATCH_SIZE = 4\n",
    "SEQ_LEN = 24\n",
    "FEATURES = 10\n",
    "EMBEDDING_DIM = 64"
   ]
  },
  {
   "cell_type": "code",
   "execution_count": 11,
   "metadata": {},
   "outputs": [],
   "source": [
    "class DummyImputationModel(nn.Module):\n",
    "    \"\"\"一个简单的伪插补模型\"\"\"\n",
    "    def __init__(self, seq_len, features, embedding_dim):\n",
    "        super().__init__()\n",
    "        self.seq_len = seq_len\n",
    "        self.features = features\n",
    "        self.embedding_dim = embedding_dim\n",
    "        self.encoder = nn.Linear(features, embedding_dim)\n",
    "        self.decoder = nn.Linear(embedding_dim, features)\n",
    "        print(f\"基础模型初始化完毕，输入特征: {features}, 嵌入维度: {embedding_dim}\")\n",
    "\n",
    "    def forward(self, x, **kwargs):\n",
    "        # 输入 x 维度: (batch, seq_len, features)\n",
    "        embedding = self.encoder(x)\n",
    "        \n",
    "        # 解码器将嵌入向量扩展回序列长度\n",
    "        # (batch, seq_len, embedding_dim)\n",
    "        reconstructed = embedding\n",
    "        output = self.decoder(reconstructed) # -> (batch, seq_len, features)\n",
    "\n",
    "        # 按照约定，返回插补结果和中间嵌入\n",
    "        return output, embedding\n",
    "    \n",
    "    def get_embedding_dim(self): # 只是为了测试 __getattr__ 功能\n",
    "        return self.embedding_dim\n"
   ]
  },
  {
   "cell_type": "code",
   "execution_count": 12,
   "id": "5bb92a99",
   "metadata": {},
   "outputs": [
    {
     "name": "stdout",
     "output_type": "stream",
     "text": [
      "基础模型初始化完毕，输入特征: 10, 嵌入维度: 64\n"
     ]
    }
   ],
   "source": [
    "# 2. 实例化基础模型和 Glocal_IB 包装器\n",
    "base_model = DummyImputationModel(SEQ_LEN, FEATURES, EMBEDDING_DIM)\n",
    "\n",
    "# 使用 \"cos_align\" 作为对齐损失，权重为 0.5\n",
    "glocal_model = Glocal_IB(\n",
    "    base_model=base_model, \n",
    "    embedding_dim=EMBEDDING_DIM,\n",
    "    align_loss_type=\"cos_align\",\n",
    "    align_model_type=\"self\",\n",
    "    align_weight=0.5,\n",
    "    foundation_embedding=None,\n",
    ")"
   ]
  },
  {
   "cell_type": "code",
   "execution_count": 13,
   "id": "90c455cf",
   "metadata": {},
   "outputs": [],
   "source": [
    "# 3. 准备模拟数据\n",
    "x_complete = torch.randn(BATCH_SIZE, SEQ_LEN, FEATURES) # 完整的原始数据\n",
    "x_masked = x_complete.clone()\n",
    "# 随机生成一个 mask，遮掉大约 20% 的数据点\n",
    "mask = torch.rand(x_masked.shape) > 0.8\n",
    "x_masked[mask] = 0 # 将被遮盖的数据点设为0"
   ]
  },
  {
   "cell_type": "code",
   "execution_count": 14,
   "id": "b2750f94",
   "metadata": {},
   "outputs": [
    {
     "name": "stdout",
     "output_type": "stream",
     "text": [
      "🚀 模式: 训练 (Training)\n",
      "返回结果类型: <class 'dict'>\n",
      "字典的键: dict_keys(['output', 'alignment_loss'])\n",
      "插补结果的形状: torch.Size([4, 24, 10])\n",
      "对齐损失的值: 0.4952\n",
      "重建损失: 1.0639\n",
      "总损失 (用于反向传播): 1.5591\n"
     ]
    }
   ],
   "source": [
    "# 4. 模拟训练过程\n",
    "print(\"🚀 模式: 训练 (Training)\")\n",
    "glocal_model.train() # 将模型设置为训练模式\n",
    "\n",
    "# 在训练时，需要同时传入 masked 和 complete 数据\n",
    "training_results = glocal_model(x_masked, x_complete)\n",
    "\n",
    "print(f\"返回结果类型: {type(training_results)}\")\n",
    "print(f\"字典的键: {training_results.keys()}\")\n",
    "\n",
    "# 从字典中获取插补结果和对齐损失\n",
    "imputation = training_results['output']\n",
    "alignment_loss = training_results['alignment_loss']\n",
    "\n",
    "print(f\"插补结果的形状: {imputation.shape}\")\n",
    "print(f\"对齐损失的值: {alignment_loss.item():.4f}\")\n",
    "\n",
    "# 在实际训练中，你会计算一个标准的重建损失\n",
    "reconstruction_loss = F.mse_loss(imputation[~mask], x_complete[~mask])\n",
    "\n",
    "# 总损失是对齐损失和重建损失的加权和\n",
    "total_loss = reconstruction_loss + alignment_loss\n",
    "print(f\"重建损失: {reconstruction_loss.item():.4f}\")\n",
    "print(f\"总损失 (用于反向传播): {total_loss.item():.4f}\")"
   ]
  },
  {
   "cell_type": "code",
   "execution_count": 15,
   "id": "7b4a9289",
   "metadata": {},
   "outputs": [
    {
     "name": "stdout",
     "output_type": "stream",
     "text": [
      "🔬 模式: 评估 (Evaluation)\n",
      "返回结果类型: <class 'torch.Tensor'>\n",
      "插补结果的形状: torch.Size([4, 24, 10])\n"
     ]
    }
   ],
   "source": [
    "# 5. 模拟评估/推理过程\n",
    "print(\"🔬 模式: 评估 (Evaluation)\")\n",
    "glocal_model.eval() # 将模型设置为评估模式\n",
    "\n",
    "# 在评估时，只传入 masked 数据\n",
    "with torch.no_grad():\n",
    "    eval_output = glocal_model(x_masked)\n",
    "\n",
    "print(f\"返回结果类型: {type(eval_output)}\")\n",
    "print(f\"插补结果的形状: {eval_output.shape}\")"
   ]
  },
  {
   "cell_type": "code",
   "execution_count": null,
   "id": "b17f6bb3",
   "metadata": {},
   "outputs": [
    {
     "name": "stdout",
     "output_type": "stream",
     "text": [
      "🎁 演示 __getattr__ 功能\n",
      "通过 Glocal_IB 包装器直接调用基础模型的方法: glocal_model.get_embedding_dim() -> 64\n",
      "与直接调用基础模型的结果一致: base_model.get_embedding_dim() -> 64\n"
     ]
    }
   ],
   "source": [
    "# 6. 演示 __getattr__ 的作用\n",
    "print(\"🎁 演示 __getattr__ 功能\")\n",
    "# 尽管我们操作的是 glocal_model，但可以像调用 base_model 的方法一样直接调用\n",
    "# 这是因为 __getattr__ 会自动将调用转发给内部的 self.base_model\n",
    "emb_dim = glocal_model.get_embedding_dim()\n",
    "print(f\"通过 Glocal_IB 包装器直接调用基础模型的方法: glocal_model.get_embedding_dim() -> {emb_dim}\")\n",
    "print(f\"与直接调用基础模型的结果一致: base_model.get_embedding_dim() -> {base_model.get_embedding_dim()}\")"
   ]
  }
 ],
 "metadata": {
  "kernelspec": {
   "display_name": "work4-v1",
   "language": "python",
   "name": "python3"
  },
  "language_info": {
   "codemirror_mode": {
    "name": "ipython",
    "version": 3
   },
   "file_extension": ".py",
   "mimetype": "text/x-python",
   "name": "python",
   "nbconvert_exporter": "python",
   "pygments_lexer": "ipython3",
   "version": "3.10.16"
  }
 },
 "nbformat": 4,
 "nbformat_minor": 5
}
